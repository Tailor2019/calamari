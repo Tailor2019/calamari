{
  "cells": [
    {
      "cell_type": "markdown",
      "metadata": {
        "id": "OOb64_drQ8HZ"
      },
      "source": [
        "Looking for some examples on how to use docTR for OCR-related tasks? You've come to the right place 😀"
      ]
    },
    {
      "cell_type": "code",
      "source": [
        "from google.colab import drive\n",
        "drive.mount('/content/drive')"
      ],
      "metadata": {
        "colab": {
          "base_uri": "https://localhost:8080/"
        },
        "id": "W4OFZruAL-xP",
        "outputId": "569de434-8a02-4f6a-9c11-c82024cddcca"
      },
      "execution_count": 15,
      "outputs": [
        {
          "output_type": "stream",
          "name": "stdout",
          "text": [
            "Mounted at /content/drive\n"
          ]
        }
      ]
    },
    {
      "cell_type": "markdown",
      "metadata": {
        "id": "0eiwDT8qIh4X"
      },
      "source": [
        "# Installation\n",
        "\n",
        "Install all the dependencies to make the most out of docTR. The project provides two main [installation](https://mindee.github.io/doctr/latest/installing.html) streams: one for stable release, and developer mode."
      ]
    },
    {
      "cell_type": "markdown",
      "metadata": {
        "id": "Bh8uHvOVIvFW"
      },
      "source": [
        "## Latest stable release\n",
        "\n",
        "This will install the last stable release that was published by our teams on pypi. It is expected to provide a clean and non-buggy experience for all users."
      ]
    },
    {
      "cell_type": "code",
      "execution_count": 16,
      "metadata": {
        "id": "43tpfKq1IxQg",
        "colab": {
          "base_uri": "https://localhost:8080/"
        },
        "outputId": "5cbd38f3-6a51-459d-8171-fc5965551efe"
      },
      "outputs": [
        {
          "output_type": "stream",
          "name": "stdout",
          "text": [
            "\u001b[33mWARNING: Skipping tensorflow as it is not installed.\u001b[0m\u001b[33m\n",
            "\u001b[0mRequirement already satisfied: python-doctr[torch,viz] in /usr/local/lib/python3.10/dist-packages (0.10.1a0)\n",
            "Requirement already satisfied: numpy<3.0.0,>=1.16.0 in /usr/local/lib/python3.10/dist-packages (from python-doctr[torch,viz]) (1.26.4)\n",
            "Requirement already satisfied: scipy<2.0.0,>=1.4.0 in /usr/local/lib/python3.10/dist-packages (from python-doctr[torch,viz]) (1.13.1)\n",
            "Requirement already satisfied: h5py<4.0.0,>=3.1.0 in /usr/local/lib/python3.10/dist-packages (from python-doctr[torch,viz]) (3.12.1)\n",
            "Requirement already satisfied: opencv-python<5.0.0,>=4.5.0 in /usr/local/lib/python3.10/dist-packages (from python-doctr[torch,viz]) (4.10.0.84)\n",
            "Requirement already satisfied: pypdfium2<5.0.0,>=4.11.0 in /usr/local/lib/python3.10/dist-packages (from python-doctr[torch,viz]) (4.30.1)\n",
            "Requirement already satisfied: pyclipper<2.0.0,>=1.2.0 in /usr/local/lib/python3.10/dist-packages (from python-doctr[torch,viz]) (1.3.0.post6)\n",
            "Requirement already satisfied: shapely<3.0.0,>=1.6.0 in /usr/local/lib/python3.10/dist-packages (from python-doctr[torch,viz]) (2.0.6)\n",
            "Requirement already satisfied: langdetect<2.0.0,>=1.0.9 in /usr/local/lib/python3.10/dist-packages (from python-doctr[torch,viz]) (1.0.9)\n",
            "Requirement already satisfied: rapidfuzz<4.0.0,>=3.0.0 in /usr/local/lib/python3.10/dist-packages (from python-doctr[torch,viz]) (3.11.0)\n",
            "Requirement already satisfied: huggingface-hub<1.0.0,>=0.20.0 in /usr/local/lib/python3.10/dist-packages (from python-doctr[torch,viz]) (0.27.0)\n",
            "Requirement already satisfied: Pillow>=9.2.0 in /usr/local/lib/python3.10/dist-packages (from python-doctr[torch,viz]) (11.0.0)\n",
            "Requirement already satisfied: defusedxml>=0.7.0 in /usr/local/lib/python3.10/dist-packages (from python-doctr[torch,viz]) (0.7.1)\n",
            "Requirement already satisfied: anyascii>=0.3.2 in /usr/local/lib/python3.10/dist-packages (from python-doctr[torch,viz]) (0.3.2)\n",
            "Requirement already satisfied: tqdm>=4.30.0 in /usr/local/lib/python3.10/dist-packages (from python-doctr[torch,viz]) (4.67.1)\n",
            "Requirement already satisfied: matplotlib>=3.1.0 in /usr/local/lib/python3.10/dist-packages (from python-doctr[torch,viz]) (3.8.0)\n",
            "Requirement already satisfied: mplcursors>=0.3 in /usr/local/lib/python3.10/dist-packages (from python-doctr[torch,viz]) (0.6)\n",
            "Requirement already satisfied: torch<3.0.0,>=2.0.0 in /usr/local/lib/python3.10/dist-packages (from python-doctr[torch,viz]) (2.5.1+cu121)\n",
            "Requirement already satisfied: torchvision>=0.15.0 in /usr/local/lib/python3.10/dist-packages (from python-doctr[torch,viz]) (0.20.1+cu121)\n",
            "Requirement already satisfied: onnx<3.0.0,>=1.12.0 in /usr/local/lib/python3.10/dist-packages (from python-doctr[torch,viz]) (1.17.0)\n",
            "Requirement already satisfied: filelock in /usr/local/lib/python3.10/dist-packages (from huggingface-hub<1.0.0,>=0.20.0->python-doctr[torch,viz]) (3.16.1)\n",
            "Requirement already satisfied: fsspec>=2023.5.0 in /usr/local/lib/python3.10/dist-packages (from huggingface-hub<1.0.0,>=0.20.0->python-doctr[torch,viz]) (2024.10.0)\n",
            "Requirement already satisfied: packaging>=20.9 in /usr/local/lib/python3.10/dist-packages (from huggingface-hub<1.0.0,>=0.20.0->python-doctr[torch,viz]) (24.2)\n",
            "Requirement already satisfied: pyyaml>=5.1 in /usr/local/lib/python3.10/dist-packages (from huggingface-hub<1.0.0,>=0.20.0->python-doctr[torch,viz]) (6.0.2)\n",
            "Requirement already satisfied: requests in /usr/local/lib/python3.10/dist-packages (from huggingface-hub<1.0.0,>=0.20.0->python-doctr[torch,viz]) (2.32.3)\n",
            "Requirement already satisfied: typing-extensions>=3.7.4.3 in /usr/local/lib/python3.10/dist-packages (from huggingface-hub<1.0.0,>=0.20.0->python-doctr[torch,viz]) (4.12.2)\n",
            "Requirement already satisfied: six in /usr/local/lib/python3.10/dist-packages (from langdetect<2.0.0,>=1.0.9->python-doctr[torch,viz]) (1.17.0)\n",
            "Requirement already satisfied: contourpy>=1.0.1 in /usr/local/lib/python3.10/dist-packages (from matplotlib>=3.1.0->python-doctr[torch,viz]) (1.3.1)\n",
            "Requirement already satisfied: cycler>=0.10 in /usr/local/lib/python3.10/dist-packages (from matplotlib>=3.1.0->python-doctr[torch,viz]) (0.12.1)\n",
            "Requirement already satisfied: fonttools>=4.22.0 in /usr/local/lib/python3.10/dist-packages (from matplotlib>=3.1.0->python-doctr[torch,viz]) (4.55.3)\n",
            "Requirement already satisfied: kiwisolver>=1.0.1 in /usr/local/lib/python3.10/dist-packages (from matplotlib>=3.1.0->python-doctr[torch,viz]) (1.4.7)\n",
            "Requirement already satisfied: pyparsing>=2.3.1 in /usr/local/lib/python3.10/dist-packages (from matplotlib>=3.1.0->python-doctr[torch,viz]) (3.2.0)\n",
            "Requirement already satisfied: python-dateutil>=2.7 in /usr/local/lib/python3.10/dist-packages (from matplotlib>=3.1.0->python-doctr[torch,viz]) (2.8.2)\n",
            "Requirement already satisfied: protobuf>=3.20.2 in /usr/local/lib/python3.10/dist-packages (from onnx<3.0.0,>=1.12.0->python-doctr[torch,viz]) (4.25.5)\n",
            "Requirement already satisfied: networkx in /usr/local/lib/python3.10/dist-packages (from torch<3.0.0,>=2.0.0->python-doctr[torch,viz]) (3.4.2)\n",
            "Requirement already satisfied: jinja2 in /usr/local/lib/python3.10/dist-packages (from torch<3.0.0,>=2.0.0->python-doctr[torch,viz]) (3.1.4)\n",
            "Requirement already satisfied: sympy==1.13.1 in /usr/local/lib/python3.10/dist-packages (from torch<3.0.0,>=2.0.0->python-doctr[torch,viz]) (1.13.1)\n",
            "Requirement already satisfied: mpmath<1.4,>=1.1.0 in /usr/local/lib/python3.10/dist-packages (from sympy==1.13.1->torch<3.0.0,>=2.0.0->python-doctr[torch,viz]) (1.3.0)\n",
            "Requirement already satisfied: MarkupSafe>=2.0 in /usr/local/lib/python3.10/dist-packages (from jinja2->torch<3.0.0,>=2.0.0->python-doctr[torch,viz]) (3.0.2)\n",
            "Requirement already satisfied: charset-normalizer<4,>=2 in /usr/local/lib/python3.10/dist-packages (from requests->huggingface-hub<1.0.0,>=0.20.0->python-doctr[torch,viz]) (3.4.0)\n",
            "Requirement already satisfied: idna<4,>=2.5 in /usr/local/lib/python3.10/dist-packages (from requests->huggingface-hub<1.0.0,>=0.20.0->python-doctr[torch,viz]) (3.10)\n",
            "Requirement already satisfied: urllib3<3,>=1.21.1 in /usr/local/lib/python3.10/dist-packages (from requests->huggingface-hub<1.0.0,>=0.20.0->python-doctr[torch,viz]) (2.2.3)\n",
            "Requirement already satisfied: certifi>=2017.4.17 in /usr/local/lib/python3.10/dist-packages (from requests->huggingface-hub<1.0.0,>=0.20.0->python-doctr[torch,viz]) (2024.12.14)\n"
          ]
        }
      ],
      "source": [
        "# TensorFlow\n",
        "# !pip install python-doctr[tf,viz]\n",
        "\n",
        "# PyTorch\n",
        "# First we have to uninstall the preinstalled tensorflow version if we want to work with PyTorch as backend\n",
        "# because the env variables USE_TORCH=1 / USE_TF=1 doesn't have an effect in Colab\n",
        "!pip uninstall -y tensorflow\n",
        "!pip install python-doctr[torch,viz]"
      ]
    },
    {
      "cell_type": "markdown",
      "metadata": {
        "id": "zUbhZiRiIxbN"
      },
      "source": [
        "## From source\n",
        "\n",
        "Before being staged for a stable release, we constantly iterate on the community feedback to improve the library. Bug fixes and performance improvements are regularly pushed to the project Git repository. Using this installation method, you will access all the latest features that have not yet made their way to a pypi release!"
      ]
    },
    {
      "cell_type": "code",
      "execution_count": 17,
      "metadata": {
        "id": "AJZgLM_CIzKf",
        "colab": {
          "base_uri": "https://localhost:8080/"
        },
        "outputId": "0d711251-0473-4243-a5c3-17c43b019157"
      },
      "outputs": [
        {
          "output_type": "stream",
          "name": "stdout",
          "text": [
            "\u001b[33mWARNING: Skipping tensorflow as it is not installed.\u001b[0m\u001b[33m\n",
            "\u001b[0mCollecting python-doctr@ git+https://github.com/mindee/doctr.git (from python-doctr[torch,viz]@ git+https://github.com/mindee/doctr.git)\n",
            "  Cloning https://github.com/mindee/doctr.git to /tmp/pip-install-2e6fdnnr/python-doctr_58b4d2f8919c4ff28f32686c7205bdb9\n",
            "  Running command git clone --filter=blob:none --quiet https://github.com/mindee/doctr.git /tmp/pip-install-2e6fdnnr/python-doctr_58b4d2f8919c4ff28f32686c7205bdb9\n",
            "  Resolved https://github.com/mindee/doctr.git to commit e6bf82d6a74a52cedac17108e596b9265c4e43c5\n",
            "  Installing build dependencies ... \u001b[?25l\u001b[?25hdone\n",
            "  Getting requirements to build wheel ... \u001b[?25l\u001b[?25hdone\n",
            "  Preparing metadata (pyproject.toml) ... \u001b[?25l\u001b[?25hdone\n",
            "Requirement already satisfied: numpy<3.0.0,>=1.16.0 in /usr/local/lib/python3.10/dist-packages (from python-doctr@ git+https://github.com/mindee/doctr.git->python-doctr[torch,viz]@ git+https://github.com/mindee/doctr.git) (1.26.4)\n",
            "Requirement already satisfied: scipy<2.0.0,>=1.4.0 in /usr/local/lib/python3.10/dist-packages (from python-doctr@ git+https://github.com/mindee/doctr.git->python-doctr[torch,viz]@ git+https://github.com/mindee/doctr.git) (1.13.1)\n",
            "Requirement already satisfied: h5py<4.0.0,>=3.1.0 in /usr/local/lib/python3.10/dist-packages (from python-doctr@ git+https://github.com/mindee/doctr.git->python-doctr[torch,viz]@ git+https://github.com/mindee/doctr.git) (3.12.1)\n",
            "Requirement already satisfied: opencv-python<5.0.0,>=4.5.0 in /usr/local/lib/python3.10/dist-packages (from python-doctr@ git+https://github.com/mindee/doctr.git->python-doctr[torch,viz]@ git+https://github.com/mindee/doctr.git) (4.10.0.84)\n",
            "Requirement already satisfied: pypdfium2<5.0.0,>=4.11.0 in /usr/local/lib/python3.10/dist-packages (from python-doctr@ git+https://github.com/mindee/doctr.git->python-doctr[torch,viz]@ git+https://github.com/mindee/doctr.git) (4.30.1)\n",
            "Requirement already satisfied: pyclipper<2.0.0,>=1.2.0 in /usr/local/lib/python3.10/dist-packages (from python-doctr@ git+https://github.com/mindee/doctr.git->python-doctr[torch,viz]@ git+https://github.com/mindee/doctr.git) (1.3.0.post6)\n",
            "Requirement already satisfied: shapely<3.0.0,>=1.6.0 in /usr/local/lib/python3.10/dist-packages (from python-doctr@ git+https://github.com/mindee/doctr.git->python-doctr[torch,viz]@ git+https://github.com/mindee/doctr.git) (2.0.6)\n",
            "Requirement already satisfied: langdetect<2.0.0,>=1.0.9 in /usr/local/lib/python3.10/dist-packages (from python-doctr@ git+https://github.com/mindee/doctr.git->python-doctr[torch,viz]@ git+https://github.com/mindee/doctr.git) (1.0.9)\n",
            "Requirement already satisfied: rapidfuzz<4.0.0,>=3.0.0 in /usr/local/lib/python3.10/dist-packages (from python-doctr@ git+https://github.com/mindee/doctr.git->python-doctr[torch,viz]@ git+https://github.com/mindee/doctr.git) (3.11.0)\n",
            "Requirement already satisfied: huggingface-hub<1.0.0,>=0.20.0 in /usr/local/lib/python3.10/dist-packages (from python-doctr@ git+https://github.com/mindee/doctr.git->python-doctr[torch,viz]@ git+https://github.com/mindee/doctr.git) (0.27.0)\n",
            "Requirement already satisfied: Pillow>=9.2.0 in /usr/local/lib/python3.10/dist-packages (from python-doctr@ git+https://github.com/mindee/doctr.git->python-doctr[torch,viz]@ git+https://github.com/mindee/doctr.git) (11.0.0)\n",
            "Requirement already satisfied: defusedxml>=0.7.0 in /usr/local/lib/python3.10/dist-packages (from python-doctr@ git+https://github.com/mindee/doctr.git->python-doctr[torch,viz]@ git+https://github.com/mindee/doctr.git) (0.7.1)\n",
            "Requirement already satisfied: anyascii>=0.3.2 in /usr/local/lib/python3.10/dist-packages (from python-doctr@ git+https://github.com/mindee/doctr.git->python-doctr[torch,viz]@ git+https://github.com/mindee/doctr.git) (0.3.2)\n",
            "Requirement already satisfied: tqdm>=4.30.0 in /usr/local/lib/python3.10/dist-packages (from python-doctr@ git+https://github.com/mindee/doctr.git->python-doctr[torch,viz]@ git+https://github.com/mindee/doctr.git) (4.67.1)\n",
            "Requirement already satisfied: matplotlib>=3.1.0 in /usr/local/lib/python3.10/dist-packages (from python-doctr@ git+https://github.com/mindee/doctr.git->python-doctr[torch,viz]@ git+https://github.com/mindee/doctr.git) (3.8.0)\n",
            "Requirement already satisfied: mplcursors>=0.3 in /usr/local/lib/python3.10/dist-packages (from python-doctr@ git+https://github.com/mindee/doctr.git->python-doctr[torch,viz]@ git+https://github.com/mindee/doctr.git) (0.6)\n",
            "Requirement already satisfied: torch<3.0.0,>=2.0.0 in /usr/local/lib/python3.10/dist-packages (from python-doctr@ git+https://github.com/mindee/doctr.git->python-doctr[torch,viz]@ git+https://github.com/mindee/doctr.git) (2.5.1+cu121)\n",
            "Requirement already satisfied: torchvision>=0.15.0 in /usr/local/lib/python3.10/dist-packages (from python-doctr@ git+https://github.com/mindee/doctr.git->python-doctr[torch,viz]@ git+https://github.com/mindee/doctr.git) (0.20.1+cu121)\n",
            "Requirement already satisfied: onnx<3.0.0,>=1.12.0 in /usr/local/lib/python3.10/dist-packages (from python-doctr@ git+https://github.com/mindee/doctr.git->python-doctr[torch,viz]@ git+https://github.com/mindee/doctr.git) (1.17.0)\n",
            "Requirement already satisfied: filelock in /usr/local/lib/python3.10/dist-packages (from huggingface-hub<1.0.0,>=0.20.0->python-doctr@ git+https://github.com/mindee/doctr.git->python-doctr[torch,viz]@ git+https://github.com/mindee/doctr.git) (3.16.1)\n",
            "Requirement already satisfied: fsspec>=2023.5.0 in /usr/local/lib/python3.10/dist-packages (from huggingface-hub<1.0.0,>=0.20.0->python-doctr@ git+https://github.com/mindee/doctr.git->python-doctr[torch,viz]@ git+https://github.com/mindee/doctr.git) (2024.10.0)\n",
            "Requirement already satisfied: packaging>=20.9 in /usr/local/lib/python3.10/dist-packages (from huggingface-hub<1.0.0,>=0.20.0->python-doctr@ git+https://github.com/mindee/doctr.git->python-doctr[torch,viz]@ git+https://github.com/mindee/doctr.git) (24.2)\n",
            "Requirement already satisfied: pyyaml>=5.1 in /usr/local/lib/python3.10/dist-packages (from huggingface-hub<1.0.0,>=0.20.0->python-doctr@ git+https://github.com/mindee/doctr.git->python-doctr[torch,viz]@ git+https://github.com/mindee/doctr.git) (6.0.2)\n",
            "Requirement already satisfied: requests in /usr/local/lib/python3.10/dist-packages (from huggingface-hub<1.0.0,>=0.20.0->python-doctr@ git+https://github.com/mindee/doctr.git->python-doctr[torch,viz]@ git+https://github.com/mindee/doctr.git) (2.32.3)\n",
            "Requirement already satisfied: typing-extensions>=3.7.4.3 in /usr/local/lib/python3.10/dist-packages (from huggingface-hub<1.0.0,>=0.20.0->python-doctr@ git+https://github.com/mindee/doctr.git->python-doctr[torch,viz]@ git+https://github.com/mindee/doctr.git) (4.12.2)\n",
            "Requirement already satisfied: six in /usr/local/lib/python3.10/dist-packages (from langdetect<2.0.0,>=1.0.9->python-doctr@ git+https://github.com/mindee/doctr.git->python-doctr[torch,viz]@ git+https://github.com/mindee/doctr.git) (1.17.0)\n",
            "Requirement already satisfied: contourpy>=1.0.1 in /usr/local/lib/python3.10/dist-packages (from matplotlib>=3.1.0->python-doctr@ git+https://github.com/mindee/doctr.git->python-doctr[torch,viz]@ git+https://github.com/mindee/doctr.git) (1.3.1)\n",
            "Requirement already satisfied: cycler>=0.10 in /usr/local/lib/python3.10/dist-packages (from matplotlib>=3.1.0->python-doctr@ git+https://github.com/mindee/doctr.git->python-doctr[torch,viz]@ git+https://github.com/mindee/doctr.git) (0.12.1)\n",
            "Requirement already satisfied: fonttools>=4.22.0 in /usr/local/lib/python3.10/dist-packages (from matplotlib>=3.1.0->python-doctr@ git+https://github.com/mindee/doctr.git->python-doctr[torch,viz]@ git+https://github.com/mindee/doctr.git) (4.55.3)\n",
            "Requirement already satisfied: kiwisolver>=1.0.1 in /usr/local/lib/python3.10/dist-packages (from matplotlib>=3.1.0->python-doctr@ git+https://github.com/mindee/doctr.git->python-doctr[torch,viz]@ git+https://github.com/mindee/doctr.git) (1.4.7)\n",
            "Requirement already satisfied: pyparsing>=2.3.1 in /usr/local/lib/python3.10/dist-packages (from matplotlib>=3.1.0->python-doctr@ git+https://github.com/mindee/doctr.git->python-doctr[torch,viz]@ git+https://github.com/mindee/doctr.git) (3.2.0)\n",
            "Requirement already satisfied: python-dateutil>=2.7 in /usr/local/lib/python3.10/dist-packages (from matplotlib>=3.1.0->python-doctr@ git+https://github.com/mindee/doctr.git->python-doctr[torch,viz]@ git+https://github.com/mindee/doctr.git) (2.8.2)\n",
            "Requirement already satisfied: protobuf>=3.20.2 in /usr/local/lib/python3.10/dist-packages (from onnx<3.0.0,>=1.12.0->python-doctr@ git+https://github.com/mindee/doctr.git->python-doctr[torch,viz]@ git+https://github.com/mindee/doctr.git) (4.25.5)\n",
            "Requirement already satisfied: networkx in /usr/local/lib/python3.10/dist-packages (from torch<3.0.0,>=2.0.0->python-doctr@ git+https://github.com/mindee/doctr.git->python-doctr[torch,viz]@ git+https://github.com/mindee/doctr.git) (3.4.2)\n",
            "Requirement already satisfied: jinja2 in /usr/local/lib/python3.10/dist-packages (from torch<3.0.0,>=2.0.0->python-doctr@ git+https://github.com/mindee/doctr.git->python-doctr[torch,viz]@ git+https://github.com/mindee/doctr.git) (3.1.4)\n",
            "Requirement already satisfied: sympy==1.13.1 in /usr/local/lib/python3.10/dist-packages (from torch<3.0.0,>=2.0.0->python-doctr@ git+https://github.com/mindee/doctr.git->python-doctr[torch,viz]@ git+https://github.com/mindee/doctr.git) (1.13.1)\n",
            "Requirement already satisfied: mpmath<1.4,>=1.1.0 in /usr/local/lib/python3.10/dist-packages (from sympy==1.13.1->torch<3.0.0,>=2.0.0->python-doctr@ git+https://github.com/mindee/doctr.git->python-doctr[torch,viz]@ git+https://github.com/mindee/doctr.git) (1.3.0)\n",
            "Requirement already satisfied: MarkupSafe>=2.0 in /usr/local/lib/python3.10/dist-packages (from jinja2->torch<3.0.0,>=2.0.0->python-doctr@ git+https://github.com/mindee/doctr.git->python-doctr[torch,viz]@ git+https://github.com/mindee/doctr.git) (3.0.2)\n",
            "Requirement already satisfied: charset-normalizer<4,>=2 in /usr/local/lib/python3.10/dist-packages (from requests->huggingface-hub<1.0.0,>=0.20.0->python-doctr@ git+https://github.com/mindee/doctr.git->python-doctr[torch,viz]@ git+https://github.com/mindee/doctr.git) (3.4.0)\n",
            "Requirement already satisfied: idna<4,>=2.5 in /usr/local/lib/python3.10/dist-packages (from requests->huggingface-hub<1.0.0,>=0.20.0->python-doctr@ git+https://github.com/mindee/doctr.git->python-doctr[torch,viz]@ git+https://github.com/mindee/doctr.git) (3.10)\n",
            "Requirement already satisfied: urllib3<3,>=1.21.1 in /usr/local/lib/python3.10/dist-packages (from requests->huggingface-hub<1.0.0,>=0.20.0->python-doctr@ git+https://github.com/mindee/doctr.git->python-doctr[torch,viz]@ git+https://github.com/mindee/doctr.git) (2.2.3)\n",
            "Requirement already satisfied: certifi>=2017.4.17 in /usr/local/lib/python3.10/dist-packages (from requests->huggingface-hub<1.0.0,>=0.20.0->python-doctr@ git+https://github.com/mindee/doctr.git->python-doctr[torch,viz]@ git+https://github.com/mindee/doctr.git) (2024.12.14)\n"
          ]
        }
      ],
      "source": [
        "# Install the most up-to-date version from GitHub\n",
        "\n",
        "# TensorFlow\n",
        "# !pip install python-doctr[tf,viz]@git+https://github.com/mindee/doctr.git\n",
        "\n",
        "# PyTorch\n",
        "# First we have to uninstall the preinstalled tensorflow version if we want to work with PyTorch as backend\n",
        "# because the env variables USE_TORCH=1 / USE_TF=1 doesn't have an effect in Colab\n",
        "!pip uninstall -y tensorflow\n",
        "!pip install python-doctr[torch,viz]@git+https://github.com/mindee/doctr.git"
      ]
    },
    {
      "cell_type": "markdown",
      "metadata": {
        "id": "r2mgRuCaJY4F"
      },
      "source": [
        "# Basic usage\n",
        "\n",
        "We're going to review the main features of docTR 🎁\n",
        "And for you to have a proper overview of its capabilities, we will need some free fonts for a proper output visualization:"
      ]
    },
    {
      "cell_type": "code",
      "execution_count": 18,
      "metadata": {
        "id": "2Qhrp88TPDZi",
        "colab": {
          "base_uri": "https://localhost:8080/"
        },
        "outputId": "af391c6f-a394-4a34-f1cc-136f62889f7d"
      },
      "outputs": [
        {
          "output_type": "stream",
          "name": "stdout",
          "text": [
            "Reading package lists... Done\n",
            "Building dependency tree... Done\n",
            "Reading state information... Done\n",
            "fonts-freefont-ttf is already the newest version (20120503-10build1).\n",
            "0 upgraded, 0 newly installed, 0 to remove and 49 not upgraded.\n"
          ]
        }
      ],
      "source": [
        "# Install some free fonts for result rendering\n",
        "!sudo apt-get install fonts-freefont-ttf -y"
      ]
    },
    {
      "cell_type": "markdown",
      "metadata": {
        "id": "Fe7KuocKSWX9"
      },
      "source": [
        "Let's take care of all the imports directly"
      ]
    },
    {
      "cell_type": "code",
      "execution_count": 19,
      "metadata": {
        "id": "xSoeo0hRJbnU"
      },
      "outputs": [],
      "source": [
        "%matplotlib inline\n",
        "import matplotlib.pyplot as plt\n",
        "\n",
        "from doctr.io import DocumentFile\n",
        "from doctr.models import ocr_predictor"
      ]
    },
    {
      "cell_type": "markdown",
      "metadata": {
        "id": "7wwEmHqZSaLF"
      },
      "source": [
        "For the next steps, we will need a proper PDF document that will be used to showcase the library features"
      ]
    },
    {
      "cell_type": "code",
      "execution_count": 5,
      "metadata": {
        "id": "UIBwFsVuJocy",
        "colab": {
          "base_uri": "https://localhost:8080/"
        },
        "outputId": "8d6bdc7d-1e2b-41c4-d1d0-2b2726611add"
      },
      "outputs": [
        {
          "output_type": "stream",
          "name": "stdout",
          "text": [
            "--2024-12-25 04:37:02--  https://eforms.com/download/2019/01/Cash-Payment-Receipt-Template.pdf\n",
            "Resolving eforms.com (eforms.com)... 104.26.1.24, 172.67.73.188, 104.26.0.24, ...\n",
            "Connecting to eforms.com (eforms.com)|104.26.1.24|:443... connected.\n",
            "HTTP request sent, awaiting response... 200 OK\n",
            "Length: 16080 (16K) [application/pdf]\n",
            "Saving to: ‘Cash-Payment-Receipt-Template.pdf’\n",
            "\n",
            "\r          Cash-Paym   0%[                    ]       0  --.-KB/s               \rCash-Payment-Receip 100%[===================>]  15.70K  --.-KB/s    in 0s      \n",
            "\n",
            "2024-12-25 04:37:02 (111 MB/s) - ‘Cash-Payment-Receipt-Template.pdf’ saved [16080/16080]\n",
            "\n",
            "Number of pages: 1\n"
          ]
        }
      ],
      "source": [
        "# Download a sample\n",
        "#!wget https://eforms.com/download/2019/01/Cash-Payment-Receipt-Template.pdf\n",
        "# Read the file\n",
        "doc = DocumentFile.from_pdf(\"/content/drive/MyDrive/1.pdf\")\n",
        "print(f\"Number of pages: {len(doc)}\")"
      ]
    },
    {
      "cell_type": "markdown",
      "metadata": {
        "id": "cM6PPiWpSmb0"
      },
      "source": [
        "docTR is, under the hood, running Deep Learning models to perform the different tasks it supports. Those models were built and trained with very popular frameworks for maximum compatibility (you will be pleased to know that you can switch from [PyTorch](https://pytorch.org/) to [TensorFlow](https://www.tensorflow.org/) without noticing any difference for you). By default, our high-level API sets the best default values so that you get high performing models without having to know anything about it. All of this is wrapper in a `Predictor` object, which will take care of pre-processing, model inference and post-processing for you ⚡\n",
        "\n",
        "Let's instantiate one!"
      ]
    },
    {
      "cell_type": "code",
      "execution_count": 6,
      "metadata": {
        "id": "WAoUcVQbKIfT",
        "colab": {
          "base_uri": "https://localhost:8080/",
          "height": 170,
          "referenced_widgets": [
            "7ba7749418094d0d8f44b1e3dd282f72",
            "8d79f68cd3a542dcb2259e14efd17c1a",
            "8918152f461448e4943c9691995d34a0",
            "802b3b4421a843ba8fd37104ef8509ae",
            "f1b2f88a6052460fa6344571fc53d5df",
            "ea7d2406e8d24cafa7cf55c49eb98cb9",
            "ebf985515666456ca843d99b9c76cebd",
            "f4db8993d27b47c8b065bab833700365",
            "c2faf0f7e74d42d88067b075e9e5a87d",
            "5d788d34159242b9bd90f6d8379ddc9f",
            "57a8648c151e46809c9115604c4767a7",
            "1a5e6c2807a6410a854a92041f3c532c",
            "1ce6411f42a84981a930a6a9d7d28bba",
            "23a742fa16d34646b7ec6ee54568000e",
            "0220e92df9e84fffbbe9e27f49904593",
            "1fc3d9e46322417d8e66d7c20e915e78",
            "82c3bdfa1fe34609be5c64864dfcdd73",
            "f7a1c9b04cd749f5855c6138009078d4",
            "f2a9db97767f4b6b974ca97a7b12ed37",
            "8d9265f99ede4e189715109704a62b89",
            "0fd92114f9ac4e96829bd81b74638549",
            "6bae188b5d12427e8a9fe60aa3e2bee5"
          ]
        },
        "outputId": "be6d0f49-9a20-44e5-d7de-1bd8e23042ed"
      },
      "outputs": [
        {
          "output_type": "stream",
          "name": "stdout",
          "text": [
            "Downloading https://doctr-static.mindee.com/models?id=v0.8.1/fast_base-688a8b34.pt&src=0 to /root/.cache/doctr/models/fast_base-688a8b34.pt\n"
          ]
        },
        {
          "output_type": "display_data",
          "data": {
            "text/plain": [
              "  0%|          | 0/65814772 [00:00<?, ?it/s]"
            ],
            "application/vnd.jupyter.widget-view+json": {
              "version_major": 2,
              "version_minor": 0,
              "model_id": "7ba7749418094d0d8f44b1e3dd282f72"
            }
          },
          "metadata": {}
        },
        {
          "output_type": "stream",
          "name": "stderr",
          "text": [
            "/usr/local/lib/python3.10/dist-packages/doctr/models/utils/pytorch.py:62: FutureWarning: You are using `torch.load` with `weights_only=False` (the current default value), which uses the default pickle module implicitly. It is possible to construct malicious pickle data which will execute arbitrary code during unpickling (See https://github.com/pytorch/pytorch/blob/main/SECURITY.md#untrusted-models for more details). In a future release, the default value for `weights_only` will be flipped to `True`. This limits the functions that could be executed during unpickling. Arbitrary objects will no longer be allowed to be loaded via this mode unless they are explicitly allowlisted by the user via `torch.serialization.add_safe_globals`. We recommend you start setting `weights_only=True` for any use case where you don't have full control of the loaded file. Please open an issue on GitHub for any issues related to this experimental feature.\n",
            "  state_dict = torch.load(archive_path, map_location=\"cpu\")\n"
          ]
        },
        {
          "output_type": "stream",
          "name": "stdout",
          "text": [
            "Downloading https://doctr-static.mindee.com/models?id=v0.3.1/crnn_vgg16_bn-9762b0b0.pt&src=0 to /root/.cache/doctr/models/crnn_vgg16_bn-9762b0b0.pt\n"
          ]
        },
        {
          "output_type": "display_data",
          "data": {
            "text/plain": [
              "  0%|          | 0/63286381 [00:00<?, ?it/s]"
            ],
            "application/vnd.jupyter.widget-view+json": {
              "version_major": 2,
              "version_minor": 0,
              "model_id": "1a5e6c2807a6410a854a92041f3c532c"
            }
          },
          "metadata": {}
        }
      ],
      "source": [
        "# Instantiate a pretrained model\n",
        "predictor = ocr_predictor(pretrained=True)"
      ]
    },
    {
      "cell_type": "markdown",
      "metadata": {
        "id": "PKKYSs0ET0XQ"
      },
      "source": [
        "By default, PyTorch model provides a nice visual description of a model, which is handy when it comes to debugging or knowing what you just created. We also added a similar feature for TensorFlow backend so that you don't miss on this nice assistance.\n",
        "\n",
        "Let's dive into this model 🕵"
      ]
    },
    {
      "cell_type": "code",
      "execution_count": 7,
      "metadata": {
        "id": "urR0KyUYOT-B",
        "colab": {
          "base_uri": "https://localhost:8080/"
        },
        "outputId": "3a7a018c-c3e1-487f-82c9-1bb9b48c991b"
      },
      "outputs": [
        {
          "output_type": "stream",
          "name": "stdout",
          "text": [
            "OCRPredictor(\n",
            "  (det_predictor): DetectionPredictor(\n",
            "    (pre_processor): PreProcessor(\n",
            "      (resize): Resize(output_size=(1024, 1024), interpolation='bilinear', preserve_aspect_ratio=True, symmetric_pad=True)\n",
            "      (normalize): Normalize(mean=(0.798, 0.785, 0.772), std=(0.264, 0.2749, 0.287))\n",
            "    )\n",
            "    (model): FAST()\n",
            "  )\n",
            "  (reco_predictor): RecognitionPredictor(\n",
            "    (pre_processor): PreProcessor(\n",
            "      (resize): Resize(output_size=(32, 128), interpolation='bilinear', preserve_aspect_ratio=True, symmetric_pad=False)\n",
            "      (normalize): Normalize(mean=(0.694, 0.695, 0.693), std=(0.299, 0.296, 0.301))\n",
            "    )\n",
            "    (model): CRNN(\n",
            "      (feat_extractor): Sequential(\n",
            "        (0): Conv2d(3, 64, kernel_size=(3, 3), stride=(1, 1), padding=(1, 1))\n",
            "        (1): BatchNorm2d(64, eps=1e-05, momentum=0.1, affine=True, track_running_stats=True)\n",
            "        (2): ReLU(inplace=True)\n",
            "        (3): Conv2d(64, 64, kernel_size=(3, 3), stride=(1, 1), padding=(1, 1))\n",
            "        (4): BatchNorm2d(64, eps=1e-05, momentum=0.1, affine=True, track_running_stats=True)\n",
            "        (5): ReLU(inplace=True)\n",
            "        (6): MaxPool2d(kernel_size=2, stride=2, padding=0, dilation=1, ceil_mode=False)\n",
            "        (7): Conv2d(64, 128, kernel_size=(3, 3), stride=(1, 1), padding=(1, 1))\n",
            "        (8): BatchNorm2d(128, eps=1e-05, momentum=0.1, affine=True, track_running_stats=True)\n",
            "        (9): ReLU(inplace=True)\n",
            "        (10): Conv2d(128, 128, kernel_size=(3, 3), stride=(1, 1), padding=(1, 1))\n",
            "        (11): BatchNorm2d(128, eps=1e-05, momentum=0.1, affine=True, track_running_stats=True)\n",
            "        (12): ReLU(inplace=True)\n",
            "        (13): MaxPool2d(kernel_size=2, stride=2, padding=0, dilation=1, ceil_mode=False)\n",
            "        (14): Conv2d(128, 256, kernel_size=(3, 3), stride=(1, 1), padding=(1, 1))\n",
            "        (15): BatchNorm2d(256, eps=1e-05, momentum=0.1, affine=True, track_running_stats=True)\n",
            "        (16): ReLU(inplace=True)\n",
            "        (17): Conv2d(256, 256, kernel_size=(3, 3), stride=(1, 1), padding=(1, 1))\n",
            "        (18): BatchNorm2d(256, eps=1e-05, momentum=0.1, affine=True, track_running_stats=True)\n",
            "        (19): ReLU(inplace=True)\n",
            "        (20): Conv2d(256, 256, kernel_size=(3, 3), stride=(1, 1), padding=(1, 1))\n",
            "        (21): BatchNorm2d(256, eps=1e-05, momentum=0.1, affine=True, track_running_stats=True)\n",
            "        (22): ReLU(inplace=True)\n",
            "        (23): MaxPool2d(kernel_size=(2, 1), stride=(2, 1), padding=0, dilation=1, ceil_mode=False)\n",
            "        (24): Conv2d(256, 512, kernel_size=(3, 3), stride=(1, 1), padding=(1, 1))\n",
            "        (25): BatchNorm2d(512, eps=1e-05, momentum=0.1, affine=True, track_running_stats=True)\n",
            "        (26): ReLU(inplace=True)\n",
            "        (27): Conv2d(512, 512, kernel_size=(3, 3), stride=(1, 1), padding=(1, 1))\n",
            "        (28): BatchNorm2d(512, eps=1e-05, momentum=0.1, affine=True, track_running_stats=True)\n",
            "        (29): ReLU(inplace=True)\n",
            "        (30): Conv2d(512, 512, kernel_size=(3, 3), stride=(1, 1), padding=(1, 1))\n",
            "        (31): BatchNorm2d(512, eps=1e-05, momentum=0.1, affine=True, track_running_stats=True)\n",
            "        (32): ReLU(inplace=True)\n",
            "        (33): MaxPool2d(kernel_size=(2, 1), stride=(2, 1), padding=0, dilation=1, ceil_mode=False)\n",
            "        (34): Conv2d(512, 512, kernel_size=(3, 3), stride=(1, 1), padding=(1, 1))\n",
            "        (35): BatchNorm2d(512, eps=1e-05, momentum=0.1, affine=True, track_running_stats=True)\n",
            "        (36): ReLU(inplace=True)\n",
            "        (37): Conv2d(512, 512, kernel_size=(3, 3), stride=(1, 1), padding=(1, 1))\n",
            "        (38): BatchNorm2d(512, eps=1e-05, momentum=0.1, affine=True, track_running_stats=True)\n",
            "        (39): ReLU(inplace=True)\n",
            "        (40): Conv2d(512, 512, kernel_size=(3, 3), stride=(1, 1), padding=(1, 1))\n",
            "        (41): BatchNorm2d(512, eps=1e-05, momentum=0.1, affine=True, track_running_stats=True)\n",
            "        (42): ReLU(inplace=True)\n",
            "        (43): MaxPool2d(kernel_size=(2, 1), stride=(2, 1), padding=0, dilation=1, ceil_mode=False)\n",
            "      )\n",
            "      (decoder): LSTM(512, 128, num_layers=2, batch_first=True, bidirectional=True)\n",
            "      (linear): Linear(in_features=256, out_features=124, bias=True)\n",
            "      (postprocessor): CTCPostProcessor(vocab_size=123)\n",
            "    )\n",
            "  )\n",
            ")\n"
          ]
        }
      ],
      "source": [
        "# Display the architecture\n",
        "print(predictor)"
      ]
    },
    {
      "cell_type": "markdown",
      "metadata": {
        "id": "dlrtkNzTURAo"
      },
      "source": [
        "Here we are inspecting the most complex (and high-level) object of docTR API: an OCR predictor. Since docTR achieves Optical Character Recognition by first localizing textual elements (Text Detection), then extracting the corresponding text from each location (Text Recognition), the OCR Predictor wraps two sub-predictors: one for text detection, and the other for text recognition."
      ]
    },
    {
      "cell_type": "markdown",
      "metadata": {
        "id": "uyVfbzhUL-Rw"
      },
      "source": [
        "## Basic inference\n",
        "\n",
        "It looks quite complex, isn't it?\n",
        "Well that will not prevent you from easily get nice results. See for yourself:"
      ]
    },
    {
      "cell_type": "code",
      "execution_count": 8,
      "metadata": {
        "id": "RLPsdCj3PWzI"
      },
      "outputs": [],
      "source": [
        "result = predictor(doc)"
      ]
    },
    {
      "cell_type": "markdown",
      "metadata": {
        "id": "eFAwQaKuPYXG"
      },
      "source": [
        "## Prediction visualization\n",
        "\n",
        "If you rightfully prefer to see the results with your eyes, docTR includes a few visualization features. We will first overlay our predictions on the original document:"
      ]
    },
    {
      "cell_type": "code",
      "execution_count": 9,
      "metadata": {
        "id": "sOcqPNnPMAE7",
        "colab": {
          "base_uri": "https://localhost:8080/",
          "height": 1000
        },
        "outputId": "5c942c15-2f52-4809-c43e-fb7884be665c"
      },
      "outputs": [
        {
          "output_type": "display_data",
          "data": {
            "text/plain": [
              "<Figure size 772.727x1000 with 1 Axes>"
            ],
            "image/png": "[encoded data removed]"
          },
          "metadata": {}
        }
      ],
      "source": [
        "result.show()"
      ]
    },
    {
      "cell_type": "markdown",
      "metadata": {
        "id": "EnJERph1VXgN"
      },
      "source": [
        "Looks accurate!\n",
        "But we can go further: if the extracted information is correctly structured, we should be able to recreate the page entirely. So let's do this 🎨"
      ]
    },
    {
      "cell_type": "code",
      "execution_count": 10,
      "metadata": {
        "id": "QdoSNYzROeRv",
        "colab": {
          "base_uri": "https://localhost:8080/",
          "height": 406
        },
        "outputId": "df3fb922-05c4-4dd9-b76f-38f470b7f0a3"
      },
      "outputs": [
        {
          "output_type": "display_data",
          "data": {
            "text/plain": [
              "<Figure size 640x480 with 1 Axes>"
            ],
            "image/png": "[encoded data removed]"
          },
          "metadata": {}
        }
      ],
      "source": [
        "synthetic_pages = result.synthesize()\n",
        "plt.imshow(synthetic_pages[0]); plt.axis('off'); plt.show()"
      ]
    },
    {
      "cell_type": "markdown",
      "metadata": {
        "id": "mEabainyPeV8"
      },
      "source": [
        "## Exporting results\n",
        "\n",
        "OK, so the predictions are relevant, but how would you integrate this into your own document processing pipeline? Perhaps you're not using Python at all?\n",
        "\n",
        "Well, if you happen to be using JSON or XML exports, they are already supported 🤗"
      ]
    },
    {
      "cell_type": "code",
      "execution_count": 11,
      "metadata": {
        "id": "mhIolyjQOqLp",
        "colab": {
          "base_uri": "https://localhost:8080/"
        },
        "outputId": "ff0d6baa-57b5-4ced-b61c-039470c7c672"
      },
      "outputs": [
        {
          "output_type": "stream",
          "name": "stdout",
          "text": [
            "{'pages': [{'page_idx': 0, 'dimensions': (1584, 1224), 'orientation': {'value': None, 'confidence': None}, 'language': {'value': None, 'confidence': None}, 'blocks': [{'geometry': ((0.11580882352941174, 0.0625), (0.9145220588235294, 0.958984375)), 'objectness_score': 0.7954577384171663, 'lines': [{'geometry': ((0.3142233455882353, 0.0625), (0.6870404411764706, 0.083984375)), 'objectness_score': 0.8068580031394958, 'words': [{'value': 'CASH', 'confidence': 0.9986966252326965, 'geometry': ((0.3142233455882353, 0.0625), (0.39763327205882354, 0.083984375)), 'objectness_score': 0.7790147662162781, 'crop_orientation': {'value': 0, 'confidence': None}}, {'value': 'PAYMENT', 'confidence': 0.9944130778312683, 'geometry': ((0.40774356617647056, 0.064453125), (0.5518152573529411, 0.08203125)), 'objectness_score': 0.8103041052818298, 'crop_orientation': {'value': 0, 'confidence': None}}, {'value': 'RECEIPT', 'confidence': 0.9994043111801147, 'geometry': ((0.5606617647058824, 0.064453125), (0.6870404411764706, 0.08203125)), 'objectness_score': 0.8312551379203796, 'crop_orientation': {'value': 0, 'confidence': None}}]}, {'geometry': ((0.11833639705882354, 0.11328125), (0.28010110294117646, 0.1328125)), 'objectness_score': 0.7796289920806885, 'words': [{'value': 'Company', 'confidence': 0.9992610812187195, 'geometry': ((0.11833639705882354, 0.1142578125), (0.21059283088235292, 0.1328125)), 'objectness_score': 0.77751225233078, 'crop_orientation': {'value': 0, 'confidence': None}}, {'value': 'Name:', 'confidence': 0.9766161441802979, 'geometry': ((0.21312040441176472, 0.11328125), (0.28010110294117646, 0.130859375)), 'objectness_score': 0.7817457318305969, 'crop_orientation': {'value': 0, 'confidence': None}}]}, {'geometry': ((0.11707261029411764, 0.1318359375), (0.2661994485294118, 0.1494140625)), 'objectness_score': 0.7995693981647491, 'words': [{'value': 'Street', 'confidence': 0.9999040365219116, 'geometry': ((0.11707261029411764, 0.1318359375), (0.177734375, 0.1494140625)), 'objectness_score': 0.7718740105628967, 'crop_orientation': {'value': 0, 'confidence': None}}, {'value': 'Address:', 'confidence': 0.9996613264083862, 'geometry': ((0.177734375, 0.1328125), (0.2661994485294118, 0.1494140625)), 'objectness_score': 0.8272647857666016, 'crop_orientation': {'value': 0, 'confidence': None}}]}, {'geometry': ((0.11707261029411764, 0.1513671875), (0.26493566176470584, 0.171875)), 'objectness_score': 0.8194483915964762, 'words': [{'value': 'City,', 'confidence': 0.9778910875320435, 'geometry': ((0.11707261029411764, 0.1513671875), (0.16130514705882354, 0.1708984375)), 'objectness_score': 0.8601685762405396, 'crop_orientation': {'value': 0, 'confidence': None}}, {'value': 'State,', 'confidence': 0.9999039173126221, 'geometry': ((0.16509650735294118, 0.1513671875), (0.22323069852941174, 0.169921875)), 'objectness_score': 0.796501874923706, 'crop_orientation': {'value': 0, 'confidence': None}}, {'value': 'Zip:', 'confidence': 0.9940316081047058, 'geometry': ((0.22449448529411764, 0.1513671875), (0.26493566176470584, 0.171875)), 'objectness_score': 0.8016747236251831, 'crop_orientation': {'value': 0, 'confidence': None}}]}, {'geometry': ((0.11960018382352944, 0.1708984375), (0.18531709558823528, 0.185546875)), 'objectness_score': 0.8363909125328064, 'words': [{'value': 'Phone:', 'confidence': 0.9999030828475952, 'geometry': ((0.11960018382352944, 0.1708984375), (0.18531709558823528, 0.185546875)), 'objectness_score': 0.8363909125328064, 'crop_orientation': {'value': 0, 'confidence': None}}]}, {'geometry': ((0.11833639705882354, 0.189453125), (0.16130514705882354, 0.205078125)), 'objectness_score': 0.8494606018066406, 'words': [{'value': 'Fax:', 'confidence': 0.9995716214179993, 'geometry': ((0.11833639705882354, 0.189453125), (0.16130514705882354, 0.205078125)), 'objectness_score': 0.8494606018066406, 'crop_orientation': {'value': 0, 'confidence': None}}]}, {'geometry': ((0.11707261029411764, 0.20703125), (0.1789981617647059, 0.224609375)), 'objectness_score': 0.806220293045044, 'words': [{'value': 'Email:', 'confidence': 0.5927429795265198, 'geometry': ((0.11707261029411764, 0.20703125), (0.1789981617647059, 0.224609375)), 'objectness_score': 0.806220293045044, 'crop_orientation': {'value': 0, 'confidence': None}}]}, {'geometry': ((0.11580882352941174, 0.2265625), (0.20301011029411764, 0.2431640625)), 'objectness_score': 0.7923747897148132, 'words': [{'value': 'Website:', 'confidence': 0.970158576965332, 'geometry': ((0.11580882352941174, 0.2265625), (0.20301011029411764, 0.2431640625)), 'objectness_score': 0.7923747897148132, 'crop_orientation': {'value': 0, 'confidence': None}}]}, {'geometry': ((0.11707261029411764, 0.2861328125), (0.17141544117647056, 0.3037109375)), 'objectness_score': 0.7869206666946411, 'words': [{'value': 'Date:', 'confidence': 0.9958581328392029, 'geometry': ((0.11707261029411764, 0.2861328125), (0.17141544117647056, 0.3037109375)), 'objectness_score': 0.7869206666946411, 'crop_orientation': {'value': 0, 'confidence': None}}]}, {'geometry': ((0.6352251838235294, 0.287109375), (0.7350643382352942, 0.3056640625)), 'objectness_score': 0.7927883863449097, 'words': [{'value': 'Receipt', 'confidence': 0.9998490810394287, 'geometry': ((0.6352251838235294, 0.287109375), (0.7097886029411764, 0.3056640625)), 'objectness_score': 0.7952840328216553, 'crop_orientation': {'value': 0, 'confidence': None}}, {'value': '#:', 'confidence': 0.998778760433197, 'geometry': ((0.7097886029411764, 0.287109375), (0.7350643382352942, 0.3037109375)), 'objectness_score': 0.7902927398681641, 'crop_orientation': {'value': 0, 'confidence': None}}]}, {'geometry': ((0.37109375, 0.369140625), (0.62890625, 0.390625)), 'objectness_score': 0.8240702152252197, 'words': [{'value': 'Payment', 'confidence': 0.9931582808494568, 'geometry': ((0.37109375, 0.369140625), (0.4797794117647059, 0.390625)), 'objectness_score': 0.8014771342277527, 'crop_orientation': {'value': 0, 'confidence': None}}, {'value': 'Information', 'confidence': 0.9924952983856201, 'geometry': ((0.4873621323529412, 0.3701171875), (0.62890625, 0.38671875)), 'objectness_score': 0.8466632962226868, 'crop_orientation': {'value': 0, 'confidence': None}}]}, {'geometry': ((0.11707261029411764, 0.4150390625), (0.19921875, 0.4365234375)), 'objectness_score': 0.7621869444847107, 'words': [{'value': 'Paid', 'confidence': 0.9999617338180542, 'geometry': ((0.11707261029411764, 0.4150390625), (0.16256893382352944, 0.43359375)), 'objectness_score': 0.7762599587440491, 'crop_orientation': {'value': 0, 'confidence': None}}, {'value': 'By:', 'confidence': 0.9999805688858032, 'geometry': ((0.16383272058823528, 0.4150390625), (0.19921875, 0.4365234375)), 'objectness_score': 0.7481139302253723, 'crop_orientation': {'value': 0, 'confidence': None}}]}, {'geometry': ((0.11707261029411764, 0.4580078125), (0.24597886029411764, 0.47265625)), 'objectness_score': 0.8377028703689575, 'words': [{'value': 'Amount', 'confidence': 0.9404515624046326, 'geometry': ((0.11707261029411764, 0.4580078125), (0.19289981617647056, 0.47265625)), 'objectness_score': 0.8252373933792114, 'crop_orientation': {'value': 0, 'confidence': None}}, {'value': 'Paid:', 'confidence': 0.9999580383300781, 'geometry': ((0.19669117647058826, 0.4580078125), (0.24597886029411764, 0.47265625)), 'objectness_score': 0.8501683473587036, 'crop_orientation': {'value': 0, 'confidence': None}}]}, {'geometry': ((0.5770909926470589, 0.4560546875), (0.6706112132352942, 0.4765625)), 'objectness_score': 0.8115723133087158, 'words': [{'value': 'Dollars', 'confidence': 0.998335063457489, 'geometry': ((0.5770909926470589, 0.4580078125), (0.6428079044117647, 0.47265625)), 'objectness_score': 0.8695416450500488, 'crop_orientation': {'value': 0, 'confidence': None}}, {'value': '($', 'confidence': 0.8540183305740356, 'geometry': ((0.6465992647058824, 0.4560546875), (0.6706112132352942, 0.4765625)), 'objectness_score': 0.7536029815673828, 'crop_orientation': {'value': 0, 'confidence': None}}]}, {'geometry': ((0.11833639705882354, 0.498046875), (0.2763097426470588, 0.5166015625)), 'objectness_score': 0.8438632090886434, 'words': [{'value': 'For', 'confidence': 0.9802311062812805, 'geometry': ((0.11833639705882354, 0.498046875), (0.15245863970588236, 0.5146484375)), 'objectness_score': 0.810603678226471, 'crop_orientation': {'value': 0, 'confidence': None}}, {'value': 'Payment', 'confidence': 0.9991080164909363, 'geometry': ((0.15625, 0.4990234375), (0.2421875, 0.5166015625)), 'objectness_score': 0.8654720783233643, 'crop_orientation': {'value': 0, 'confidence': None}}, {'value': 'Of:', 'confidence': 0.9995321035385132, 'geometry': ((0.24471507352941174, 0.498046875), (0.2763097426470588, 0.5146484375)), 'objectness_score': 0.855513870716095, 'crop_orientation': {'value': 0, 'confidence': None}}]}, {'geometry': ((0.6377527573529411, 0.568359375), (0.7464384191176471, 0.5888671875)), 'objectness_score': 0.7400814890861511, 'words': [{'value': 'Subtotal:', 'confidence': 0.996807336807251, 'geometry': ((0.6377527573529411, 0.5703125), (0.7236902573529411, 0.5869140625)), 'objectness_score': 0.7667462825775146, 'crop_orientation': {'value': 0, 'confidence': None}}, {'value': '$', 'confidence': 0.9916658997535706, 'geometry': ((0.7262178308823529, 0.568359375), (0.7464384191176471, 0.5888671875)), 'objectness_score': 0.7134166955947876, 'crop_orientation': {'value': 0, 'confidence': None}}]}, {'geometry': ((0.6011029411764706, 0.6005859375), (0.736328125, 0.6220703125)), 'objectness_score': 0.7918516596158346, 'words': [{'value': 'Tax', 'confidence': 0.9997215867042542, 'geometry': ((0.6011029411764706, 0.6005859375), (0.6428079044117647, 0.619140625)), 'objectness_score': 0.7415971159934998, 'crop_orientation': {'value': 0, 'confidence': None}}, {'value': 'Rate', 'confidence': 0.9839210510253906, 'geometry': ((0.6453354779411764, 0.6025390625), (0.6920955882352942, 0.6181640625)), 'objectness_score': 0.7999241948127747, 'crop_orientation': {'value': 0, 'confidence': None}}, {'value': '(%):', 'confidence': 0.9988818764686584, 'geometry': ((0.6958869485294118, 0.6015625), (0.736328125, 0.6220703125)), 'objectness_score': 0.8340336680412292, 'crop_orientation': {'value': 0, 'confidence': None}}]}, {'geometry': ((0.6263786764705882, 0.6318359375), (0.7451746323529411, 0.65234375)), 'objectness_score': 0.8157453934351603, 'words': [{'value': 'Total', 'confidence': 0.9957265853881836, 'geometry': ((0.6263786764705882, 0.6328125), (0.6781939338235294, 0.650390625)), 'objectness_score': 0.8275414705276489, 'crop_orientation': {'value': 0, 'confidence': None}}, {'value': 'Tax:', 'confidence': 0.9994945526123047, 'geometry': ((0.6807215073529411, 0.6337890625), (0.7236902573529411, 0.6494140625)), 'objectness_score': 0.8567672371864319, 'crop_orientation': {'value': 0, 'confidence': None}}, {'value': '$', 'confidence': 0.9964136481285095, 'geometry': ((0.7262178308823529, 0.6318359375), (0.7451746323529411, 0.65234375)), 'objectness_score': 0.7629274725914001, 'crop_orientation': {'value': 0, 'confidence': None}}]}, {'geometry': ((0.5442325367647058, 0.6630859375), (0.7451746323529411, 0.68359375)), 'objectness_score': 0.8176806718111038, 'words': [{'value': 'Total', 'confidence': 0.9949911236763, 'geometry': ((0.5442325367647058, 0.6640625), (0.5960477941176471, 0.681640625)), 'objectness_score': 0.8157930970191956, 'crop_orientation': {'value': 0, 'confidence': None}}, {'value': 'Amount', 'confidence': 0.9977902173995972, 'geometry': ((0.5985753676470589, 0.666015625), (0.6744025735294118, 0.6796875)), 'objectness_score': 0.8539444208145142, 'crop_orientation': {'value': 0, 'confidence': None}}, {'value': 'Due:', 'confidence': 0.8893721699714661, 'geometry': ((0.6781939338235294, 0.6650390625), (0.7249540441176471, 0.6806640625)), 'objectness_score': 0.8448212742805481, 'crop_orientation': {'value': 0, 'confidence': None}}, {'value': '$', 'confidence': 0.9930484294891357, 'geometry': ((0.7262178308823529, 0.6630859375), (0.7451746323529411, 0.68359375)), 'objectness_score': 0.7561638951301575, 'crop_orientation': {'value': 0, 'confidence': None}}]}, {'geometry': ((0.5947840073529411, 0.6953125), (0.7451746323529411, 0.7158203125)), 'objectness_score': 0.753011425336202, 'words': [{'value': 'Amount', 'confidence': 0.9996951818466187, 'geometry': ((0.5947840073529411, 0.697265625), (0.6706112132352942, 0.7119140625)), 'objectness_score': 0.8580790162086487, 'crop_orientation': {'value': 0, 'confidence': None}}, {'value': 'Paid:', 'confidence': 0.999294638633728, 'geometry': ((0.6731387867647058, 0.6953125), (0.7249540441176471, 0.7138671875)), 'objectness_score': 0.7266239523887634, 'crop_orientation': {'value': 0, 'confidence': None}}, {'value': '$', 'confidence': 0.9910349249839783, 'geometry': ((0.7249540441176471, 0.6953125), (0.7451746323529411, 0.7158203125)), 'objectness_score': 0.6743313074111938, 'crop_orientation': {'value': 0, 'confidence': None}}]}, {'geometry': ((0.5341222426470589, 0.7265625), (0.7451746323529411, 0.7470703125)), 'objectness_score': 0.750636359055837, 'words': [{'value': 'Remaining', 'confidence': 0.9989711046218872, 'geometry': ((0.5341222426470589, 0.7294921875), (0.6352251838235294, 0.7470703125)), 'objectness_score': 0.7928719520568848, 'crop_orientation': {'value': 0, 'confidence': None}}, {'value': 'Balance:', 'confidence': 0.9995741248130798, 'geometry': ((0.6390165441176471, 0.7275390625), (0.7236902573529411, 0.744140625)), 'objectness_score': 0.7610649466514587, 'crop_orientation': {'value': 0, 'confidence': None}}, {'value': '$', 'confidence': 0.9835711717605591, 'geometry': ((0.7249540441176471, 0.7265625), (0.7451746323529411, 0.7470703125)), 'objectness_score': 0.6979721784591675, 'crop_orientation': {'value': 0, 'confidence': None}}]}, {'geometry': ((0.11960018382352944, 0.7998046875), (0.24597886029411764, 0.8203125)), 'objectness_score': 0.8360083699226379, 'words': [{'value': 'Received', 'confidence': 0.9971774816513062, 'geometry': ((0.11960018382352944, 0.8017578125), (0.20806525735294118, 0.8154296875)), 'objectness_score': 0.8515897989273071, 'crop_orientation': {'value': 0, 'confidence': None}}, {'value': 'By:', 'confidence': 0.9997166991233826, 'geometry': ((0.21059283088235292, 0.7998046875), (0.24597886029411764, 0.8203125)), 'objectness_score': 0.8204269409179688, 'crop_orientation': {'value': 0, 'confidence': None}}]}, {'geometry': ((0.11580882352941174, 0.8408203125), (0.33318014705882354, 0.8603515625)), 'objectness_score': 0.7337365746498108, 'words': [{'value': 'Authorized', 'confidence': 0.997747004032135, 'geometry': ((0.11580882352941174, 0.8408203125), (0.23081341911764708, 0.857421875)), 'objectness_score': 0.7112308144569397, 'crop_orientation': {'value': 0, 'confidence': None}}, {'value': 'Signature', 'confidence': 0.9976200461387634, 'geometry': ((0.23460477941176472, 0.841796875), (0.33318014705882354, 0.8603515625)), 'objectness_score': 0.7562423348426819, 'crop_orientation': {'value': 0, 'confidence': None}}]}, {'geometry': ((0.8273207720588236, 0.9404296875), (0.9145220588235294, 0.958984375)), 'objectness_score': 0.7584233731031418, 'words': [{'value': 'Page', 'confidence': 0.9993821382522583, 'geometry': ((0.8273207720588236, 0.9404296875), (0.8702895220588236, 0.958984375)), 'objectness_score': 0.8038526177406311, 'crop_orientation': {'value': 0, 'confidence': None}}, {'value': '1', 'confidence': 0.9999966621398926, 'geometry': ((0.8702895220588236, 0.9404296875), (0.8829273897058824, 0.9560546875)), 'objectness_score': 0.7404372096061707, 'crop_orientation': {'value': 0, 'confidence': None}}, {'value': 'of', 'confidence': 0.9999960660934448, 'geometry': ((0.8829273897058824, 0.94140625), (0.9006204044117647, 0.955078125)), 'objectness_score': 0.7899892330169678, 'crop_orientation': {'value': 0, 'confidence': None}}, {'value': '1', 'confidence': 0.9999964237213135, 'geometry': ((0.9006204044117647, 0.94140625), (0.9145220588235294, 0.9560546875)), 'objectness_score': 0.6994144320487976, 'crop_orientation': {'value': 0, 'confidence': None}}]}], 'artefacts': []}]}]}\n"
          ]
        }
      ],
      "source": [
        "# JSON export\n",
        "json_export = result.export()\n",
        "print(json_export)"
      ]
    },
    {
      "cell_type": "code",
      "execution_count": 12,
      "metadata": {
        "id": "3RsuKIlYPnNf",
        "colab": {
          "base_uri": "https://localhost:8080/"
        },
        "outputId": "fe3c6e92-4e80-4d48-d7f2-a230bccdb965"
      },
      "outputs": [
        {
          "output_type": "stream",
          "name": "stdout",
          "text": [
            "b'<html xmlns=\"http://www.w3.org/1999/xhtml\" xml:lang=\"en\"><head><title>docTR - XML export (hOCR)</title><meta http-equiv=\"Content-Type\" content=\"text/html; charset=utf-8\" /><meta name=\"ocr-system\" content=\"python-doctr 0.10.1a0\" /><meta name=\"ocr-capabilities\" content=\"ocr_page ocr_carea ocr_par ocr_line ocrx_word\" /></head><body><div class=\"ocr_page\" id=\"page_1\" title=\"image; bbox 0 0 1224 1584; ppageno 0\" /><div class=\"ocr_carea\" id=\"block_1\" title=\"bbox 142 99                     1119 1519\"><p class=\"ocr_par\" id=\"par_1\" title=\"bbox 142 99                     1119 1519\"><span class=\"ocr_line\" id=\"line_1\" title=\"bbox 385 99                         841 133;                         baseline 0 0; x_size 0; x_descenders 0; x_ascenders 0\"><span class=\"ocrx_word\" id=\"word_1\" title=\"bbox 385 99                             487 133;                             x_wconf 100\">CASH</span><span class=\"ocrx_word\" id=\"word_2\" title=\"bbox 499 102                             675 130;                             x_wconf 99\">PAYMENT</span><span class=\"ocrx_word\" id=\"word_3\" title=\"bbox 686 102                             841 130;                             x_wconf 100\">RECEIPT</span></span><span class=\"ocr_line\" id=\"line_2\" title=\"bbox 145 179                         343 210;                         baseline 0 0; x_size 0; x_descenders 0; x_ascenders 0\"><span class=\"ocrx_word\" id=\"word_4\" title=\"bbox 145 181                             258 210;                             x_wconf 100\">Company</span><span class=\"ocrx_word\" id=\"word_5\" title=\"bbox 261 179                             343 207;                             x_wconf 98\">Name:</span></span><span class=\"ocr_line\" id=\"line_3\" title=\"bbox 143 209                         326 237;                         baseline 0 0; x_size 0; x_descenders 0; x_ascenders 0\"><span class=\"ocrx_word\" id=\"word_6\" title=\"bbox 143 209                             218 237;                             x_wconf 100\">Street</span><span class=\"ocrx_word\" id=\"word_7\" title=\"bbox 218 210                             326 237;                             x_wconf 100\">Address:</span></span><span class=\"ocr_line\" id=\"line_4\" title=\"bbox 143 240                         324 272;                         baseline 0 0; x_size 0; x_descenders 0; x_ascenders 0\"><span class=\"ocrx_word\" id=\"word_8\" title=\"bbox 143 240                             197 271;                             x_wconf 98\">City,</span><span class=\"ocrx_word\" id=\"word_9\" title=\"bbox 202 240                             273 269;                             x_wconf 100\">State,</span><span class=\"ocrx_word\" id=\"word_10\" title=\"bbox 275 240                             324 272;                             x_wconf 99\">Zip:</span></span><span class=\"ocr_line\" id=\"line_5\" title=\"bbox 146 271                         227 294;                         baseline 0 0; x_size 0; x_descenders 0; x_ascenders 0\"><span class=\"ocrx_word\" id=\"word_11\" title=\"bbox 146 271                             227 294;                             x_wconf 100\">Phone:</span></span><span class=\"ocr_line\" id=\"line_6\" title=\"bbox 145 300                         197 325;                         baseline 0 0; x_size 0; x_descenders 0; x_ascenders 0\"><span class=\"ocrx_word\" id=\"word_12\" title=\"bbox 145 300                             197 325;                             x_wconf 100\">Fax:</span></span><span class=\"ocr_line\" id=\"line_7\" title=\"bbox 143 328                         219 356;                         baseline 0 0; x_size 0; x_descenders 0; x_ascenders 0\"><span class=\"ocrx_word\" id=\"word_13\" title=\"bbox 143 328                             219 356;                             x_wconf 59\">Email:</span></span><span class=\"ocr_line\" id=\"line_8\" title=\"bbox 142 359                         248 385;                         baseline 0 0; x_size 0; x_descenders 0; x_ascenders 0\"><span class=\"ocrx_word\" id=\"word_14\" title=\"bbox 142 359                             248 385;                             x_wconf 97\">Website:</span></span><span class=\"ocr_line\" id=\"line_9\" title=\"bbox 143 453                         210 481;                         baseline 0 0; x_size 0; x_descenders 0; x_ascenders 0\"><span class=\"ocrx_word\" id=\"word_15\" title=\"bbox 143 453                             210 481;                             x_wconf 100\">Date:</span></span><span class=\"ocr_line\" id=\"line_10\" title=\"bbox 778 455                         900 484;                         baseline 0 0; x_size 0; x_descenders 0; x_ascenders 0\"><span class=\"ocrx_word\" id=\"word_16\" title=\"bbox 778 455                             869 484;                             x_wconf 100\">Receipt</span><span class=\"ocrx_word\" id=\"word_17\" title=\"bbox 869 455                             900 481;                             x_wconf 100\">#:</span></span><span class=\"ocr_line\" id=\"line_11\" title=\"bbox 454 585                         770 619;                         baseline 0 0; x_size 0; x_descenders 0; x_ascenders 0\"><span class=\"ocrx_word\" id=\"word_18\" title=\"bbox 454 585                             587 619;                             x_wconf 99\">Payment</span><span class=\"ocrx_word\" id=\"word_19\" title=\"bbox 597 586                             770 613;                             x_wconf 99\">Information</span></span><span class=\"ocr_line\" id=\"line_12\" title=\"bbox 143 657                         244 691;                         baseline 0 0; x_size 0; x_descenders 0; x_ascenders 0\"><span class=\"ocrx_word\" id=\"word_20\" title=\"bbox 143 657                             199 687;                             x_wconf 100\">Paid</span><span class=\"ocrx_word\" id=\"word_21\" title=\"bbox 201 657                             244 691;                             x_wconf 100\">By:</span></span><span class=\"ocr_line\" id=\"line_13\" title=\"bbox 143 725                         301 749;                         baseline 0 0; x_size 0; x_descenders 0; x_ascenders 0\"><span class=\"ocrx_word\" id=\"word_22\" title=\"bbox 143 725                             236 749;                             x_wconf 94\">Amount</span><span class=\"ocrx_word\" id=\"word_23\" title=\"bbox 241 725                             301 749;                             x_wconf 100\">Paid:</span></span><span class=\"ocr_line\" id=\"line_14\" title=\"bbox 706 722                         821 755;                         baseline 0 0; x_size 0; x_descenders 0; x_ascenders 0\"><span class=\"ocrx_word\" id=\"word_24\" title=\"bbox 706 725                             787 749;                             x_wconf 100\">Dollars</span><span class=\"ocrx_word\" id=\"word_25\" title=\"bbox 791 722                             821 755;                             x_wconf 85\">($</span></span><span class=\"ocr_line\" id=\"line_15\" title=\"bbox 145 789                         338 818;                         baseline 0 0; x_size 0; x_descenders 0; x_ascenders 0\"><span class=\"ocrx_word\" id=\"word_26\" title=\"bbox 145 789                             187 815;                             x_wconf 98\">For</span><span class=\"ocrx_word\" id=\"word_27\" title=\"bbox 191 790                             296 818;                             x_wconf 100\">Payment</span><span class=\"ocrx_word\" id=\"word_28\" title=\"bbox 300 789                             338 815;                             x_wconf 100\">Of:</span></span><span class=\"ocr_line\" id=\"line_16\" title=\"bbox 781 900                         914 933;                         baseline 0 0; x_size 0; x_descenders 0; x_ascenders 0\"><span class=\"ocrx_word\" id=\"word_29\" title=\"bbox 781 903                             886 930;                             x_wconf 100\">Subtotal:</span><span class=\"ocrx_word\" id=\"word_30\" title=\"bbox 889 900                             914 933;                             x_wconf 99\">$</span></span><span class=\"ocr_line\" id=\"line_17\" title=\"bbox 736 951                         901 985;                         baseline 0 0; x_size 0; x_descenders 0; x_ascenders 0\"><span class=\"ocrx_word\" id=\"word_31\" title=\"bbox 736 951                             787 981;                             x_wconf 100\">Tax</span><span class=\"ocrx_word\" id=\"word_32\" title=\"bbox 790 954                             847 979;                             x_wconf 98\">Rate</span><span class=\"ocrx_word\" id=\"word_33\" title=\"bbox 852 953                             901 985;                             x_wconf 100\">(%):</span></span><span class=\"ocr_line\" id=\"line_18\" title=\"bbox 767 1001                         912 1033;                         baseline 0 0; x_size 0; x_descenders 0; x_ascenders 0\"><span class=\"ocrx_word\" id=\"word_34\" title=\"bbox 767 1002                             830 1030;                             x_wconf 100\">Total</span><span class=\"ocrx_word\" id=\"word_35\" title=\"bbox 833 1004                             886 1029;                             x_wconf 100\">Tax:</span><span class=\"ocrx_word\" id=\"word_36\" title=\"bbox 889 1001                             912 1033;                             x_wconf 100\">$</span></span><span class=\"ocr_line\" id=\"line_19\" title=\"bbox 666 1050                         912 1083;                         baseline 0 0; x_size 0; x_descenders 0; x_ascenders 0\"><span class=\"ocrx_word\" id=\"word_37\" title=\"bbox 666 1052                             730 1080;                             x_wconf 99\">Total</span><span class=\"ocrx_word\" id=\"word_38\" title=\"bbox 733 1055                             825 1077;                             x_wconf 100\">Amount</span><span class=\"ocrx_word\" id=\"word_39\" title=\"bbox 830 1053                             887 1078;                             x_wconf 89\">Due:</span><span class=\"ocrx_word\" id=\"word_40\" title=\"bbox 889 1050                             912 1083;                             x_wconf 99\">$</span></span><span class=\"ocr_line\" id=\"line_20\" title=\"bbox 728 1101                         912 1134;                         baseline 0 0; x_size 0; x_descenders 0; x_ascenders 0\"><span class=\"ocrx_word\" id=\"word_41\" title=\"bbox 728 1104                             821 1128;                             x_wconf 100\">Amount</span><span class=\"ocrx_word\" id=\"word_42\" title=\"bbox 824 1101                             887 1131;                             x_wconf 100\">Paid:</span><span class=\"ocrx_word\" id=\"word_43\" title=\"bbox 887 1101                             912 1134;                             x_wconf 99\">$</span></span><span class=\"ocr_line\" id=\"line_21\" title=\"bbox 654 1151                         912 1183;                         baseline 0 0; x_size 0; x_descenders 0; x_ascenders 0\"><span class=\"ocrx_word\" id=\"word_44\" title=\"bbox 654 1156                             778 1183;                             x_wconf 100\">Remaining</span><span class=\"ocrx_word\" id=\"word_45\" title=\"bbox 782 1152                             886 1179;                             x_wconf 100\">Balance:</span><span class=\"ocrx_word\" id=\"word_46\" title=\"bbox 887 1151                             912 1183;                             x_wconf 98\">$</span></span><span class=\"ocr_line\" id=\"line_22\" title=\"bbox 146 1267                         301 1299;                         baseline 0 0; x_size 0; x_descenders 0; x_ascenders 0\"><span class=\"ocrx_word\" id=\"word_47\" title=\"bbox 146 1270                             255 1292;                             x_wconf 100\">Received</span><span class=\"ocrx_word\" id=\"word_48\" title=\"bbox 258 1267                             301 1299;                             x_wconf 100\">By:</span></span><span class=\"ocr_line\" id=\"line_23\" title=\"bbox 142 1332                         408 1363;                         baseline 0 0; x_size 0; x_descenders 0; x_ascenders 0\"><span class=\"ocrx_word\" id=\"word_49\" title=\"bbox 142 1332                             283 1358;                             x_wconf 100\">Authorized</span><span class=\"ocrx_word\" id=\"word_50\" title=\"bbox 287 1333                             408 1363;                             x_wconf 100\">Signature</span></span><span class=\"ocr_line\" id=\"line_24\" title=\"bbox 1013 1490                         1119 1519;                         baseline 0 0; x_size 0; x_descenders 0; x_ascenders 0\"><span class=\"ocrx_word\" id=\"word_51\" title=\"bbox 1013 1490                             1065 1519;                             x_wconf 100\">Page</span><span class=\"ocrx_word\" id=\"word_52\" title=\"bbox 1065 1490                             1081 1514;                             x_wconf 100\">1</span><span class=\"ocrx_word\" id=\"word_53\" title=\"bbox 1081 1491                             1102 1513;                             x_wconf 100\">of</span><span class=\"ocrx_word\" id=\"word_54\" title=\"bbox 1102 1491                             1119 1514;                             x_wconf 100\">1</span></span></p></div></body></html>'\n"
          ]
        }
      ],
      "source": [
        "# XML export\n",
        "xml_output = result.export_as_xml()\n",
        "print(xml_output[0][0])"
      ]
    },
    {
      "cell_type": "markdown",
      "source": [
        "Or if you only need the extracted plain text"
      ],
      "metadata": {
        "id": "1jMtYYupC_h5"
      }
    },
    {
      "cell_type": "code",
      "source": [
        "string_result = result.render()\n",
        "print(string_result)"
      ],
      "metadata": {
        "id": "mPkaooRnDlkQ",
        "colab": {
          "base_uri": "https://localhost:8080/"
        },
        "outputId": "1e9db219-c993-49bf-d685-be4ce476c634"
      },
      "execution_count": 13,
      "outputs": [
        {
          "output_type": "stream",
          "name": "stdout",
          "text": [
            "CASH PAYMENT RECEIPT\n",
            "Company Name:\n",
            "Street Address:\n",
            "City, State, Zip:\n",
            "Phone:\n",
            "Fax:\n",
            "Email:\n",
            "Website:\n",
            "Date:\n",
            "Receipt #:\n",
            "Payment Information\n",
            "Paid By:\n",
            "Amount Paid:\n",
            "Dollars ($\n",
            "For Payment Of:\n",
            "Subtotal: $\n",
            "Tax Rate (%):\n",
            "Total Tax: $\n",
            "Total Amount Due: $\n",
            "Amount Paid: $\n",
            "Remaining Balance: $\n",
            "Received By:\n",
            "Authorized Signature\n",
            "Page 1 of 1\n"
          ]
        }
      ]
    }
  ],
  "metadata": {
    "colab": {
      "provenance": []
    },
    "kernelspec": {
      "display_name": "Python 3",
      "language": "python",
      "name": "python3"
    },
    "language_info": {
      "codemirror_mode": {
        "name": "ipython",
        "version": 3
      },
      "file_extension": ".py",
      "mimetype": "text/x-python",
      "name": "python",
      "nbconvert_exporter": "python",
      "pygments_lexer": "ipython3",
      "version": "3.8.8"
    },
    "widgets": {
      "application/vnd.jupyter.widget-state+json": {
        "7ba7749418094d0d8f44b1e3dd282f72": {
          "model_module": "@jupyter-widgets/controls",
          "model_name": "HBoxModel",
          "model_module_version": "1.5.0",
          "state": {
            "_dom_classes": [],
            "_model_module": "@jupyter-widgets/controls",
            "_model_module_version": "1.5.0",
            "_model_name": "HBoxModel",
            "_view_count": null,
            "_view_module": "@jupyter-widgets/controls",
            "_view_module_version": "1.5.0",
            "_view_name": "HBoxView",
            "box_style": "",
            "children": [
              "IPY_MODEL_8d79f68cd3a542dcb2259e14efd17c1a",
              "IPY_MODEL_8918152f461448e4943c9691995d34a0",
              "IPY_MODEL_802b3b4421a843ba8fd37104ef8509ae"
            ],
            "layout": "IPY_MODEL_f1b2f88a6052460fa6344571fc53d5df"
          }
        },
        "8d79f68cd3a542dcb2259e14efd17c1a": {
          "model_module": "@jupyter-widgets/controls",
          "model_name": "HTMLModel",
          "model_module_version": "1.5.0",
          "state": {
            "_dom_classes": [],
            "_model_module": "@jupyter-widgets/controls",
            "_model_module_version": "1.5.0",
            "_model_name": "HTMLModel",
            "_view_count": null,
            "_view_module": "@jupyter-widgets/controls",
            "_view_module_version": "1.5.0",
            "_view_name": "HTMLView",
            "description": "",
            "description_tooltip": null,
            "layout": "IPY_MODEL_ea7d2406e8d24cafa7cf55c49eb98cb9",
            "placeholder": "​",
            "style": "IPY_MODEL_ebf985515666456ca843d99b9c76cebd",
            "value": ""
          }
        },
        "8918152f461448e4943c9691995d34a0": {
          "model_module": "@jupyter-widgets/controls",
          "model_name": "FloatProgressModel",
          "model_module_version": "1.5.0",
          "state": {
            "_dom_classes": [],
            "_model_module": "@jupyter-widgets/controls",
            "_model_module_version": "1.5.0",
            "_model_name": "FloatProgressModel",
            "_view_count": null,
            "_view_module": "@jupyter-widgets/controls",
            "_view_module_version": "1.5.0",
            "_view_name": "ProgressView",
            "bar_style": "success",
            "description": "",
            "description_tooltip": null,
            "layout": "IPY_MODEL_f4db8993d27b47c8b065bab833700365",
            "max": 65814772,
            "min": 0,
            "orientation": "horizontal",
            "style": "IPY_MODEL_c2faf0f7e74d42d88067b075e9e5a87d",
            "value": 65814772
          }
        },
        "802b3b4421a843ba8fd37104ef8509ae": {
          "model_module": "@jupyter-widgets/controls",
          "model_name": "HTMLModel",
          "model_module_version": "1.5.0",
          "state": {
            "_dom_classes": [],
            "_model_module": "@jupyter-widgets/controls",
            "_model_module_version": "1.5.0",
            "_model_name": "HTMLModel",
            "_view_count": null,
            "_view_module": "@jupyter-widgets/controls",
            "_view_module_version": "1.5.0",
            "_view_name": "HTMLView",
            "description": "",
            "description_tooltip": null,
            "layout": "IPY_MODEL_5d788d34159242b9bd90f6d8379ddc9f",
            "placeholder": "​",
            "style": "IPY_MODEL_57a8648c151e46809c9115604c4767a7",
            "value": " 65815552/? [00:00&lt;00:00, 114014608.83it/s]"
          }
        },
        "f1b2f88a6052460fa6344571fc53d5df": {
          "model_module": "@jupyter-widgets/base",
          "model_name": "LayoutModel",
          "model_module_version": "1.2.0",
          "state": {
            "_model_module": "@jupyter-widgets/base",
            "_model_module_version": "1.2.0",
            "_model_name": "LayoutModel",
            "_view_count": null,
            "_view_module": "@jupyter-widgets/base",
            "_view_module_version": "1.2.0",
            "_view_name": "LayoutView",
            "align_content": null,
            "align_items": null,
            "align_self": null,
            "border": null,
            "bottom": null,
            "display": null,
            "flex": null,
            "flex_flow": null,
            "grid_area": null,
            "grid_auto_columns": null,
            "grid_auto_flow": null,
            "grid_auto_rows": null,
            "grid_column": null,
            "grid_gap": null,
            "grid_row": null,
            "grid_template_areas": null,
            "grid_template_columns": null,
            "grid_template_rows": null,
            "height": null,
            "justify_content": null,
            "justify_items": null,
            "left": null,
            "margin": null,
            "max_height": null,
            "max_width": null,
            "min_height": null,
            "min_width": null,
            "object_fit": null,
            "object_position": null,
            "order": null,
            "overflow": null,
            "overflow_x": null,
            "overflow_y": null,
            "padding": null,
            "right": null,
            "top": null,
            "visibility": null,
            "width": null
          }
        },
        "ea7d2406e8d24cafa7cf55c49eb98cb9": {
          "model_module": "@jupyter-widgets/base",
          "model_name": "LayoutModel",
          "model_module_version": "1.2.0",
          "state": {
            "_model_module": "@jupyter-widgets/base",
            "_model_module_version": "1.2.0",
            "_model_name": "LayoutModel",
            "_view_count": null,
            "_view_module": "@jupyter-widgets/base",
            "_view_module_version": "1.2.0",
            "_view_name": "LayoutView",
            "align_content": null,
            "align_items": null,
            "align_self": null,
            "border": null,
            "bottom": null,
            "display": null,
            "flex": null,
            "flex_flow": null,
            "grid_area": null,
            "grid_auto_columns": null,
            "grid_auto_flow": null,
            "grid_auto_rows": null,
            "grid_column": null,
            "grid_gap": null,
            "grid_row": null,
            "grid_template_areas": null,
            "grid_template_columns": null,
            "grid_template_rows": null,
            "height": null,
            "justify_content": null,
            "justify_items": null,
            "left": null,
            "margin": null,
            "max_height": null,
            "max_width": null,
            "min_height": null,
            "min_width": null,
            "object_fit": null,
            "object_position": null,
            "order": null,
            "overflow": null,
            "overflow_x": null,
            "overflow_y": null,
            "padding": null,
            "right": null,
            "top": null,
            "visibility": null,
            "width": null
          }
        },
        "ebf985515666456ca843d99b9c76cebd": {
          "model_module": "@jupyter-widgets/controls",
          "model_name": "DescriptionStyleModel",
          "model_module_version": "1.5.0",
          "state": {
            "_model_module": "@jupyter-widgets/controls",
            "_model_module_version": "1.5.0",
            "_model_name": "DescriptionStyleModel",
            "_view_count": null,
            "_view_module": "@jupyter-widgets/base",
            "_view_module_version": "1.2.0",
            "_view_name": "StyleView",
            "description_width": ""
          }
        },
        "f4db8993d27b47c8b065bab833700365": {
          "model_module": "@jupyter-widgets/base",
          "model_name": "LayoutModel",
          "model_module_version": "1.2.0",
          "state": {
            "_model_module": "@jupyter-widgets/base",
            "_model_module_version": "1.2.0",
            "_model_name": "LayoutModel",
            "_view_count": null,
            "_view_module": "@jupyter-widgets/base",
            "_view_module_version": "1.2.0",
            "_view_name": "LayoutView",
            "align_content": null,
            "align_items": null,
            "align_self": null,
            "border": null,
            "bottom": null,
            "display": null,
            "flex": null,
            "flex_flow": null,
            "grid_area": null,
            "grid_auto_columns": null,
            "grid_auto_flow": null,
            "grid_auto_rows": null,
            "grid_column": null,
            "grid_gap": null,
            "grid_row": null,
            "grid_template_areas": null,
            "grid_template_columns": null,
            "grid_template_rows": null,
            "height": null,
            "justify_content": null,
            "justify_items": null,
            "left": null,
            "margin": null,
            "max_height": null,
            "max_width": null,
            "min_height": null,
            "min_width": null,
            "object_fit": null,
            "object_position": null,
            "order": null,
            "overflow": null,
            "overflow_x": null,
            "overflow_y": null,
            "padding": null,
            "right": null,
            "top": null,
            "visibility": null,
            "width": null
          }
        },
        "c2faf0f7e74d42d88067b075e9e5a87d": {
          "model_module": "@jupyter-widgets/controls",
          "model_name": "ProgressStyleModel",
          "model_module_version": "1.5.0",
          "state": {
            "_model_module": "@jupyter-widgets/controls",
            "_model_module_version": "1.5.0",
            "_model_name": "ProgressStyleModel",
            "_view_count": null,
            "_view_module": "@jupyter-widgets/base",
            "_view_module_version": "1.2.0",
            "_view_name": "StyleView",
            "bar_color": null,
            "description_width": ""
          }
        },
        "5d788d34159242b9bd90f6d8379ddc9f": {
          "model_module": "@jupyter-widgets/base",
          "model_name": "LayoutModel",
          "model_module_version": "1.2.0",
          "state": {
            "_model_module": "@jupyter-widgets/base",
            "_model_module_version": "1.2.0",
            "_model_name": "LayoutModel",
            "_view_count": null,
            "_view_module": "@jupyter-widgets/base",
            "_view_module_version": "1.2.0",
            "_view_name": "LayoutView",
            "align_content": null,
            "align_items": null,
            "align_self": null,
            "border": null,
            "bottom": null,
            "display": null,
            "flex": null,
            "flex_flow": null,
            "grid_area": null,
            "grid_auto_columns": null,
            "grid_auto_flow": null,
            "grid_auto_rows": null,
            "grid_column": null,
            "grid_gap": null,
            "grid_row": null,
            "grid_template_areas": null,
            "grid_template_columns": null,
            "grid_template_rows": null,
            "height": null,
            "justify_content": null,
            "justify_items": null,
            "left": null,
            "margin": null,
            "max_height": null,
            "max_width": null,
            "min_height": null,
            "min_width": null,
            "object_fit": null,
            "object_position": null,
            "order": null,
            "overflow": null,
            "overflow_x": null,
            "overflow_y": null,
            "padding": null,
            "right": null,
            "top": null,
            "visibility": null,
            "width": null
          }
        },
        "57a8648c151e46809c9115604c4767a7": {
          "model_module": "@jupyter-widgets/controls",
          "model_name": "DescriptionStyleModel",
          "model_module_version": "1.5.0",
          "state": {
            "_model_module": "@jupyter-widgets/controls",
            "_model_module_version": "1.5.0",
            "_model_name": "DescriptionStyleModel",
            "_view_count": null,
            "_view_module": "@jupyter-widgets/base",
            "_view_module_version": "1.2.0",
            "_view_name": "StyleView",
            "description_width": ""
          }
        },
        "1a5e6c2807a6410a854a92041f3c532c": {
          "model_module": "@jupyter-widgets/controls",
          "model_name": "HBoxModel",
          "model_module_version": "1.5.0",
          "state": {
            "_dom_classes": [],
            "_model_module": "@jupyter-widgets/controls",
            "_model_module_version": "1.5.0",
            "_model_name": "HBoxModel",
            "_view_count": null,
            "_view_module": "@jupyter-widgets/controls",
            "_view_module_version": "1.5.0",
            "_view_name": "HBoxView",
            "box_style": "",
            "children": [
              "IPY_MODEL_1ce6411f42a84981a930a6a9d7d28bba",
              "IPY_MODEL_23a742fa16d34646b7ec6ee54568000e",
              "IPY_MODEL_0220e92df9e84fffbbe9e27f49904593"
            ],
            "layout": "IPY_MODEL_1fc3d9e46322417d8e66d7c20e915e78"
          }
        },
        "1ce6411f42a84981a930a6a9d7d28bba": {
          "model_module": "@jupyter-widgets/controls",
          "model_name": "HTMLModel",
          "model_module_version": "1.5.0",
          "state": {
            "_dom_classes": [],
            "_model_module": "@jupyter-widgets/controls",
            "_model_module_version": "1.5.0",
            "_model_name": "HTMLModel",
            "_view_count": null,
            "_view_module": "@jupyter-widgets/controls",
            "_view_module_version": "1.5.0",
            "_view_name": "HTMLView",
            "description": "",
            "description_tooltip": null,
            "layout": "IPY_MODEL_82c3bdfa1fe34609be5c64864dfcdd73",
            "placeholder": "​",
            "style": "IPY_MODEL_f7a1c9b04cd749f5855c6138009078d4",
            "value": ""
          }
        },
        "23a742fa16d34646b7ec6ee54568000e": {
          "model_module": "@jupyter-widgets/controls",
          "model_name": "FloatProgressModel",
          "model_module_version": "1.5.0",
          "state": {
            "_dom_classes": [],
            "_model_module": "@jupyter-widgets/controls",
            "_model_module_version": "1.5.0",
            "_model_name": "FloatProgressModel",
            "_view_count": null,
            "_view_module": "@jupyter-widgets/controls",
            "_view_module_version": "1.5.0",
            "_view_name": "ProgressView",
            "bar_style": "success",
            "description": "",
            "description_tooltip": null,
            "layout": "IPY_MODEL_f2a9db97767f4b6b974ca97a7b12ed37",
            "max": 63286381,
            "min": 0,
            "orientation": "horizontal",
            "style": "IPY_MODEL_8d9265f99ede4e189715109704a62b89",
            "value": 63286381
          }
        },
        "0220e92df9e84fffbbe9e27f49904593": {
          "model_module": "@jupyter-widgets/controls",
          "model_name": "HTMLModel",
          "model_module_version": "1.5.0",
          "state": {
            "_dom_classes": [],
            "_model_module": "@jupyter-widgets/controls",
            "_model_module_version": "1.5.0",
            "_model_name": "HTMLModel",
            "_view_count": null,
            "_view_module": "@jupyter-widgets/controls",
            "_view_module_version": "1.5.0",
            "_view_name": "HTMLView",
            "description": "",
            "description_tooltip": null,
            "layout": "IPY_MODEL_0fd92114f9ac4e96829bd81b74638549",
            "placeholder": "​",
            "style": "IPY_MODEL_6bae188b5d12427e8a9fe60aa3e2bee5",
            "value": " 63287296/? [00:00&lt;00:00, 167261548.74it/s]"
          }
        },
        "1fc3d9e46322417d8e66d7c20e915e78": {
          "model_module": "@jupyter-widgets/base",
          "model_name": "LayoutModel",
          "model_module_version": "1.2.0",
          "state": {
            "_model_module": "@jupyter-widgets/base",
            "_model_module_version": "1.2.0",
            "_model_name": "LayoutModel",
            "_view_count": null,
            "_view_module": "@jupyter-widgets/base",
            "_view_module_version": "1.2.0",
            "_view_name": "LayoutView",
            "align_content": null,
            "align_items": null,
            "align_self": null,
            "border": null,
            "bottom": null,
            "display": null,
            "flex": null,
            "flex_flow": null,
            "grid_area": null,
            "grid_auto_columns": null,
            "grid_auto_flow": null,
            "grid_auto_rows": null,
            "grid_column": null,
            "grid_gap": null,
            "grid_row": null,
            "grid_template_areas": null,
            "grid_template_columns": null,
            "grid_template_rows": null,
            "height": null,
            "justify_content": null,
            "justify_items": null,
            "left": null,
            "margin": null,
            "max_height": null,
            "max_width": null,
            "min_height": null,
            "min_width": null,
            "object_fit": null,
            "object_position": null,
            "order": null,
            "overflow": null,
            "overflow_x": null,
            "overflow_y": null,
            "padding": null,
            "right": null,
            "top": null,
            "visibility": null,
            "width": null
          }
        },
        "82c3bdfa1fe34609be5c64864dfcdd73": {
          "model_module": "@jupyter-widgets/base",
          "model_name": "LayoutModel",
          "model_module_version": "1.2.0",
          "state": {
            "_model_module": "@jupyter-widgets/base",
            "_model_module_version": "1.2.0",
            "_model_name": "LayoutModel",
            "_view_count": null,
            "_view_module": "@jupyter-widgets/base",
            "_view_module_version": "1.2.0",
            "_view_name": "LayoutView",
            "align_content": null,
            "align_items": null,
            "align_self": null,
            "border": null,
            "bottom": null,
            "display": null,
            "flex": null,
            "flex_flow": null,
            "grid_area": null,
            "grid_auto_columns": null,
            "grid_auto_flow": null,
            "grid_auto_rows": null,
            "grid_column": null,
            "grid_gap": null,
            "grid_row": null,
            "grid_template_areas": null,
            "grid_template_columns": null,
            "grid_template_rows": null,
            "height": null,
            "justify_content": null,
            "justify_items": null,
            "left": null,
            "margin": null,
            "max_height": null,
            "max_width": null,
            "min_height": null,
            "min_width": null,
            "object_fit": null,
            "object_position": null,
            "order": null,
            "overflow": null,
            "overflow_x": null,
            "overflow_y": null,
            "padding": null,
            "right": null,
            "top": null,
            "visibility": null,
            "width": null
          }
        },
        "f7a1c9b04cd749f5855c6138009078d4": {
          "model_module": "@jupyter-widgets/controls",
          "model_name": "DescriptionStyleModel",
          "model_module_version": "1.5.0",
          "state": {
            "_model_module": "@jupyter-widgets/controls",
            "_model_module_version": "1.5.0",
            "_model_name": "DescriptionStyleModel",
            "_view_count": null,
            "_view_module": "@jupyter-widgets/base",
            "_view_module_version": "1.2.0",
            "_view_name": "StyleView",
            "description_width": ""
          }
        },
        "f2a9db97767f4b6b974ca97a7b12ed37": {
          "model_module": "@jupyter-widgets/base",
          "model_name": "LayoutModel",
          "model_module_version": "1.2.0",
          "state": {
            "_model_module": "@jupyter-widgets/base",
            "_model_module_version": "1.2.0",
            "_model_name": "LayoutModel",
            "_view_count": null,
            "_view_module": "@jupyter-widgets/base",
            "_view_module_version": "1.2.0",
            "_view_name": "LayoutView",
            "align_content": null,
            "align_items": null,
            "align_self": null,
            "border": null,
            "bottom": null,
            "display": null,
            "flex": null,
            "flex_flow": null,
            "grid_area": null,
            "grid_auto_columns": null,
            "grid_auto_flow": null,
            "grid_auto_rows": null,
            "grid_column": null,
            "grid_gap": null,
            "grid_row": null,
            "grid_template_areas": null,
            "grid_template_columns": null,
            "grid_template_rows": null,
            "height": null,
            "justify_content": null,
            "justify_items": null,
            "left": null,
            "margin": null,
            "max_height": null,
            "max_width": null,
            "min_height": null,
            "min_width": null,
            "object_fit": null,
            "object_position": null,
            "order": null,
            "overflow": null,
            "overflow_x": null,
            "overflow_y": null,
            "padding": null,
            "right": null,
            "top": null,
            "visibility": null,
            "width": null
          }
        },
        "8d9265f99ede4e189715109704a62b89": {
          "model_module": "@jupyter-widgets/controls",
          "model_name": "ProgressStyleModel",
          "model_module_version": "1.5.0",
          "state": {
            "_model_module": "@jupyter-widgets/controls",
            "_model_module_version": "1.5.0",
            "_model_name": "ProgressStyleModel",
            "_view_count": null,
            "_view_module": "@jupyter-widgets/base",
            "_view_module_version": "1.2.0",
            "_view_name": "StyleView",
            "bar_color": null,
            "description_width": ""
          }
        },
        "0fd92114f9ac4e96829bd81b74638549": {
          "model_module": "@jupyter-widgets/base",
          "model_name": "LayoutModel",
          "model_module_version": "1.2.0",
          "state": {
            "_model_module": "@jupyter-widgets/base",
            "_model_module_version": "1.2.0",
            "_model_name": "LayoutModel",
            "_view_count": null,
            "_view_module": "@jupyter-widgets/base",
            "_view_module_version": "1.2.0",
            "_view_name": "LayoutView",
            "align_content": null,
            "align_items": null,
            "align_self": null,
            "border": null,
            "bottom": null,
            "display": null,
            "flex": null,
            "flex_flow": null,
            "grid_area": null,
            "grid_auto_columns": null,
            "grid_auto_flow": null,
            "grid_auto_rows": null,
            "grid_column": null,
            "grid_gap": null,
            "grid_row": null,
            "grid_template_areas": null,
            "grid_template_columns": null,
            "grid_template_rows": null,
            "height": null,
            "justify_content": null,
            "justify_items": null,
            "left": null,
            "margin": null,
            "max_height": null,
            "max_width": null,
            "min_height": null,
            "min_width": null,
            "object_fit": null,
            "object_position": null,
            "order": null,
            "overflow": null,
            "overflow_x": null,
            "overflow_y": null,
            "padding": null,
            "right": null,
            "top": null,
            "visibility": null,
            "width": null
          }
        },
        "6bae188b5d12427e8a9fe60aa3e2bee5": {
          "model_module": "@jupyter-widgets/controls",
          "model_name": "DescriptionStyleModel",
          "model_module_version": "1.5.0",
          "state": {
            "_model_module": "@jupyter-widgets/controls",
            "_model_module_version": "1.5.0",
            "_model_name": "DescriptionStyleModel",
            "_view_count": null,
            "_view_module": "@jupyter-widgets/base",
            "_view_module_version": "1.2.0",
            "_view_name": "StyleView",
            "description_width": ""
          }
        }
      }
    }
  },
  "nbformat": 4,
  "nbformat_minor": 0
}